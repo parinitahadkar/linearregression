{
 "cells": [
  {
   "cell_type": "code",
   "execution_count": 175,
   "metadata": {},
   "outputs": [],
   "source": [
    "# Supress Warnings\n",
    "import warnings\n",
    "warnings.filterwarnings('ignore')"
   ]
  },
  {
   "cell_type": "code",
   "execution_count": 176,
   "metadata": {},
   "outputs": [],
   "source": [
    "import numpy as np\n",
    "import pandas as pd\n",
    "import matplotlib.pyplot as plt\n",
    "import seaborn as sns"
   ]
  },
  {
   "cell_type": "code",
   "execution_count": 177,
   "metadata": {},
   "outputs": [
    {
     "data": {
      "text/html": [
       "<div>\n",
       "<style scoped>\n",
       "    .dataframe tbody tr th:only-of-type {\n",
       "        vertical-align: middle;\n",
       "    }\n",
       "\n",
       "    .dataframe tbody tr th {\n",
       "        vertical-align: top;\n",
       "    }\n",
       "\n",
       "    .dataframe thead th {\n",
       "        text-align: right;\n",
       "    }\n",
       "</style>\n",
       "<table border=\"1\" class=\"dataframe\">\n",
       "  <thead>\n",
       "    <tr style=\"text-align: right;\">\n",
       "      <th></th>\n",
       "      <th>mobile_number</th>\n",
       "      <th>circle_id</th>\n",
       "      <th>loc_og_t2o_mou</th>\n",
       "      <th>std_og_t2o_mou</th>\n",
       "      <th>loc_ic_t2o_mou</th>\n",
       "      <th>last_date_of_month_6</th>\n",
       "      <th>last_date_of_month_7</th>\n",
       "      <th>last_date_of_month_8</th>\n",
       "      <th>last_date_of_month_9</th>\n",
       "      <th>arpu_6</th>\n",
       "      <th>...</th>\n",
       "      <th>sachet_3g_9</th>\n",
       "      <th>fb_user_6</th>\n",
       "      <th>fb_user_7</th>\n",
       "      <th>fb_user_8</th>\n",
       "      <th>fb_user_9</th>\n",
       "      <th>aon</th>\n",
       "      <th>aug_vbc_3g</th>\n",
       "      <th>jul_vbc_3g</th>\n",
       "      <th>jun_vbc_3g</th>\n",
       "      <th>sep_vbc_3g</th>\n",
       "    </tr>\n",
       "  </thead>\n",
       "  <tbody>\n",
       "    <tr>\n",
       "      <th>0</th>\n",
       "      <td>7000842753</td>\n",
       "      <td>109</td>\n",
       "      <td>0.0</td>\n",
       "      <td>0.0</td>\n",
       "      <td>0.0</td>\n",
       "      <td>6/30/2014</td>\n",
       "      <td>7/31/2014</td>\n",
       "      <td>8/31/2014</td>\n",
       "      <td>9/30/2014</td>\n",
       "      <td>197.385</td>\n",
       "      <td>...</td>\n",
       "      <td>0</td>\n",
       "      <td>1.0</td>\n",
       "      <td>1.0</td>\n",
       "      <td>1.0</td>\n",
       "      <td>NaN</td>\n",
       "      <td>968</td>\n",
       "      <td>30.4</td>\n",
       "      <td>0.0</td>\n",
       "      <td>101.20</td>\n",
       "      <td>3.58</td>\n",
       "    </tr>\n",
       "    <tr>\n",
       "      <th>1</th>\n",
       "      <td>7001865778</td>\n",
       "      <td>109</td>\n",
       "      <td>0.0</td>\n",
       "      <td>0.0</td>\n",
       "      <td>0.0</td>\n",
       "      <td>6/30/2014</td>\n",
       "      <td>7/31/2014</td>\n",
       "      <td>8/31/2014</td>\n",
       "      <td>9/30/2014</td>\n",
       "      <td>34.047</td>\n",
       "      <td>...</td>\n",
       "      <td>0</td>\n",
       "      <td>NaN</td>\n",
       "      <td>1.0</td>\n",
       "      <td>1.0</td>\n",
       "      <td>NaN</td>\n",
       "      <td>1006</td>\n",
       "      <td>0.0</td>\n",
       "      <td>0.0</td>\n",
       "      <td>0.00</td>\n",
       "      <td>0.00</td>\n",
       "    </tr>\n",
       "    <tr>\n",
       "      <th>2</th>\n",
       "      <td>7001625959</td>\n",
       "      <td>109</td>\n",
       "      <td>0.0</td>\n",
       "      <td>0.0</td>\n",
       "      <td>0.0</td>\n",
       "      <td>6/30/2014</td>\n",
       "      <td>7/31/2014</td>\n",
       "      <td>8/31/2014</td>\n",
       "      <td>9/30/2014</td>\n",
       "      <td>167.690</td>\n",
       "      <td>...</td>\n",
       "      <td>0</td>\n",
       "      <td>NaN</td>\n",
       "      <td>NaN</td>\n",
       "      <td>NaN</td>\n",
       "      <td>1.0</td>\n",
       "      <td>1103</td>\n",
       "      <td>0.0</td>\n",
       "      <td>0.0</td>\n",
       "      <td>4.17</td>\n",
       "      <td>0.00</td>\n",
       "    </tr>\n",
       "    <tr>\n",
       "      <th>3</th>\n",
       "      <td>7001204172</td>\n",
       "      <td>109</td>\n",
       "      <td>0.0</td>\n",
       "      <td>0.0</td>\n",
       "      <td>0.0</td>\n",
       "      <td>6/30/2014</td>\n",
       "      <td>7/31/2014</td>\n",
       "      <td>8/31/2014</td>\n",
       "      <td>9/30/2014</td>\n",
       "      <td>221.338</td>\n",
       "      <td>...</td>\n",
       "      <td>0</td>\n",
       "      <td>NaN</td>\n",
       "      <td>NaN</td>\n",
       "      <td>NaN</td>\n",
       "      <td>NaN</td>\n",
       "      <td>2491</td>\n",
       "      <td>0.0</td>\n",
       "      <td>0.0</td>\n",
       "      <td>0.00</td>\n",
       "      <td>0.00</td>\n",
       "    </tr>\n",
       "    <tr>\n",
       "      <th>4</th>\n",
       "      <td>7000142493</td>\n",
       "      <td>109</td>\n",
       "      <td>0.0</td>\n",
       "      <td>0.0</td>\n",
       "      <td>0.0</td>\n",
       "      <td>6/30/2014</td>\n",
       "      <td>7/31/2014</td>\n",
       "      <td>8/31/2014</td>\n",
       "      <td>9/30/2014</td>\n",
       "      <td>261.636</td>\n",
       "      <td>...</td>\n",
       "      <td>0</td>\n",
       "      <td>0.0</td>\n",
       "      <td>NaN</td>\n",
       "      <td>NaN</td>\n",
       "      <td>NaN</td>\n",
       "      <td>1526</td>\n",
       "      <td>0.0</td>\n",
       "      <td>0.0</td>\n",
       "      <td>0.00</td>\n",
       "      <td>0.00</td>\n",
       "    </tr>\n",
       "  </tbody>\n",
       "</table>\n",
       "<p>5 rows × 226 columns</p>\n",
       "</div>"
      ],
      "text/plain": [
       "   mobile_number  circle_id  loc_og_t2o_mou  std_og_t2o_mou  loc_ic_t2o_mou  \\\n",
       "0     7000842753        109             0.0             0.0             0.0   \n",
       "1     7001865778        109             0.0             0.0             0.0   \n",
       "2     7001625959        109             0.0             0.0             0.0   \n",
       "3     7001204172        109             0.0             0.0             0.0   \n",
       "4     7000142493        109             0.0             0.0             0.0   \n",
       "\n",
       "  last_date_of_month_6 last_date_of_month_7 last_date_of_month_8  \\\n",
       "0            6/30/2014            7/31/2014            8/31/2014   \n",
       "1            6/30/2014            7/31/2014            8/31/2014   \n",
       "2            6/30/2014            7/31/2014            8/31/2014   \n",
       "3            6/30/2014            7/31/2014            8/31/2014   \n",
       "4            6/30/2014            7/31/2014            8/31/2014   \n",
       "\n",
       "  last_date_of_month_9   arpu_6     ...      sachet_3g_9  fb_user_6  \\\n",
       "0            9/30/2014  197.385     ...                0        1.0   \n",
       "1            9/30/2014   34.047     ...                0        NaN   \n",
       "2            9/30/2014  167.690     ...                0        NaN   \n",
       "3            9/30/2014  221.338     ...                0        NaN   \n",
       "4            9/30/2014  261.636     ...                0        0.0   \n",
       "\n",
       "   fb_user_7  fb_user_8  fb_user_9   aon  aug_vbc_3g  jul_vbc_3g  jun_vbc_3g  \\\n",
       "0        1.0        1.0        NaN   968        30.4         0.0      101.20   \n",
       "1        1.0        1.0        NaN  1006         0.0         0.0        0.00   \n",
       "2        NaN        NaN        1.0  1103         0.0         0.0        4.17   \n",
       "3        NaN        NaN        NaN  2491         0.0         0.0        0.00   \n",
       "4        NaN        NaN        NaN  1526         0.0         0.0        0.00   \n",
       "\n",
       "   sep_vbc_3g  \n",
       "0        3.58  \n",
       "1        0.00  \n",
       "2        0.00  \n",
       "3        0.00  \n",
       "4        0.00  \n",
       "\n",
       "[5 rows x 226 columns]"
      ]
     },
     "execution_count": 177,
     "metadata": {},
     "output_type": "execute_result"
    }
   ],
   "source": [
    "telecom_data= pd.read_csv(r\"C:\\Users\\Dell\\Desktop\\Datascience\\telecom churn\\telecom_churn_data.csv\")\n",
    "telecom_data.head(5)"
   ]
  },
  {
   "cell_type": "code",
   "execution_count": 178,
   "metadata": {},
   "outputs": [
    {
     "name": "stdout",
     "output_type": "stream",
     "text": [
      "<class 'pandas.core.frame.DataFrame'>\n",
      "RangeIndex: 99999 entries, 0 to 99998\n",
      "Columns: 226 entries, mobile_number to sep_vbc_3g\n",
      "dtypes: float64(179), int64(35), object(12)\n",
      "memory usage: 172.4+ MB\n"
     ]
    }
   ],
   "source": [
    "telecom_data.info()"
   ]
  },
  {
   "cell_type": "code",
   "execution_count": 179,
   "metadata": {},
   "outputs": [
    {
     "data": {
      "text/plain": [
       "total_rech_amt_6             0.000000\n",
       "total_rech_amt_7             0.000000\n",
       "total_rech_amt_8             0.000000\n",
       "total_rech_amt_9             0.000000\n",
       "max_rech_amt_6               0.000000\n",
       "max_rech_amt_7               0.000000\n",
       "max_rech_amt_8               0.000000\n",
       "max_rech_amt_9               0.000000\n",
       "date_of_last_rech_data_6    74.846748\n",
       "date_of_last_rech_data_7    74.428744\n",
       "date_of_last_rech_data_8    73.660737\n",
       "date_of_last_rech_data_9    74.077741\n",
       "total_rech_data_6           74.846748\n",
       "total_rech_data_7           74.428744\n",
       "total_rech_data_8           73.660737\n",
       "total_rech_data_9           74.077741\n",
       "max_rech_data_6             74.846748\n",
       "max_rech_data_7             74.428744\n",
       "max_rech_data_8             73.660737\n",
       "max_rech_data_9             74.077741\n",
       "av_rech_amt_data_6          74.846748\n",
       "av_rech_amt_data_7          74.428744\n",
       "av_rech_amt_data_8          73.660737\n",
       "av_rech_amt_data_9          74.077741\n",
       "dtype: float64"
      ]
     },
     "execution_count": 179,
     "metadata": {},
     "output_type": "execute_result"
    }
   ],
   "source": [
    "recharge_amt= ['total_rech_amt_6', 'total_rech_amt_7', 'total_rech_amt_8',\n",
    "       'total_rech_amt_9', 'max_rech_amt_6', 'max_rech_amt_7',\n",
    "       'max_rech_amt_8', 'max_rech_amt_9', 'date_of_last_rech_data_6',\n",
    "       'date_of_last_rech_data_7', 'date_of_last_rech_data_8',\n",
    "       'date_of_last_rech_data_9', 'total_rech_data_6', 'total_rech_data_7',\n",
    "       'total_rech_data_8', 'total_rech_data_9', 'max_rech_data_6',\n",
    "       'max_rech_data_7', 'max_rech_data_8', 'max_rech_data_9',\n",
    "       'av_rech_amt_data_6', 'av_rech_amt_data_7', 'av_rech_amt_data_8',\n",
    "       'av_rech_amt_data_9']\n",
    "100*telecom_data.loc[:,recharge_amt].isnull().sum()/len(telecom_data)"
   ]
  },
  {
   "cell_type": "code",
   "execution_count": 180,
   "metadata": {},
   "outputs": [
    {
     "data": {
      "text/html": [
       "<div>\n",
       "<style scoped>\n",
       "    .dataframe tbody tr th:only-of-type {\n",
       "        vertical-align: middle;\n",
       "    }\n",
       "\n",
       "    .dataframe tbody tr th {\n",
       "        vertical-align: top;\n",
       "    }\n",
       "\n",
       "    .dataframe thead th {\n",
       "        text-align: right;\n",
       "    }\n",
       "</style>\n",
       "<table border=\"1\" class=\"dataframe\">\n",
       "  <thead>\n",
       "    <tr style=\"text-align: right;\">\n",
       "      <th></th>\n",
       "      <th>total_rech_amt_6</th>\n",
       "      <th>max_rech_amt_6</th>\n",
       "      <th>total_rech_data_6</th>\n",
       "      <th>max_rech_data_6</th>\n",
       "      <th>av_rech_amt_data_6</th>\n",
       "    </tr>\n",
       "  </thead>\n",
       "  <tbody>\n",
       "    <tr>\n",
       "      <th>count</th>\n",
       "      <td>99999.000000</td>\n",
       "      <td>99999.000000</td>\n",
       "      <td>25153.000000</td>\n",
       "      <td>25153.000000</td>\n",
       "      <td>25153.000000</td>\n",
       "    </tr>\n",
       "    <tr>\n",
       "      <th>mean</th>\n",
       "      <td>327.514615</td>\n",
       "      <td>104.637486</td>\n",
       "      <td>2.463802</td>\n",
       "      <td>126.393392</td>\n",
       "      <td>192.600982</td>\n",
       "    </tr>\n",
       "    <tr>\n",
       "      <th>std</th>\n",
       "      <td>398.019701</td>\n",
       "      <td>120.614894</td>\n",
       "      <td>2.789128</td>\n",
       "      <td>108.477235</td>\n",
       "      <td>192.646318</td>\n",
       "    </tr>\n",
       "    <tr>\n",
       "      <th>min</th>\n",
       "      <td>0.000000</td>\n",
       "      <td>0.000000</td>\n",
       "      <td>1.000000</td>\n",
       "      <td>1.000000</td>\n",
       "      <td>1.000000</td>\n",
       "    </tr>\n",
       "    <tr>\n",
       "      <th>25%</th>\n",
       "      <td>109.000000</td>\n",
       "      <td>30.000000</td>\n",
       "      <td>1.000000</td>\n",
       "      <td>25.000000</td>\n",
       "      <td>82.000000</td>\n",
       "    </tr>\n",
       "    <tr>\n",
       "      <th>50%</th>\n",
       "      <td>230.000000</td>\n",
       "      <td>110.000000</td>\n",
       "      <td>1.000000</td>\n",
       "      <td>145.000000</td>\n",
       "      <td>154.000000</td>\n",
       "    </tr>\n",
       "    <tr>\n",
       "      <th>75%</th>\n",
       "      <td>437.500000</td>\n",
       "      <td>120.000000</td>\n",
       "      <td>3.000000</td>\n",
       "      <td>177.000000</td>\n",
       "      <td>252.000000</td>\n",
       "    </tr>\n",
       "    <tr>\n",
       "      <th>max</th>\n",
       "      <td>35190.000000</td>\n",
       "      <td>4010.000000</td>\n",
       "      <td>61.000000</td>\n",
       "      <td>1555.000000</td>\n",
       "      <td>7546.000000</td>\n",
       "    </tr>\n",
       "  </tbody>\n",
       "</table>\n",
       "</div>"
      ],
      "text/plain": [
       "       total_rech_amt_6  max_rech_amt_6  total_rech_data_6  max_rech_data_6  \\\n",
       "count      99999.000000    99999.000000       25153.000000     25153.000000   \n",
       "mean         327.514615      104.637486           2.463802       126.393392   \n",
       "std          398.019701      120.614894           2.789128       108.477235   \n",
       "min            0.000000        0.000000           1.000000         1.000000   \n",
       "25%          109.000000       30.000000           1.000000        25.000000   \n",
       "50%          230.000000      110.000000           1.000000       145.000000   \n",
       "75%          437.500000      120.000000           3.000000       177.000000   \n",
       "max        35190.000000     4010.000000          61.000000      1555.000000   \n",
       "\n",
       "       av_rech_amt_data_6  \n",
       "count        25153.000000  \n",
       "mean           192.600982  \n",
       "std            192.646318  \n",
       "min              1.000000  \n",
       "25%             82.000000  \n",
       "50%            154.000000  \n",
       "75%            252.000000  \n",
       "max           7546.000000  "
      ]
     },
     "execution_count": 180,
     "metadata": {},
     "output_type": "execute_result"
    }
   ],
   "source": [
    "rech_amt_6= ['total_rech_amt_6','max_rech_amt_6','total_rech_data_6','max_rech_data_6','av_rech_amt_data_6']\n",
    "telecom_data.loc[:,rech_amt_6].describe()"
   ]
  },
  {
   "cell_type": "code",
   "execution_count": 181,
   "metadata": {},
   "outputs": [],
   "source": [
    "telecom_data['goodphase_total_avg_rech_amnt'] = (telecom_data['total_rech_amt_6']+ telecom_data['total_rech_amt_7'])/2"
   ]
  },
  {
   "cell_type": "code",
   "execution_count": 182,
   "metadata": {},
   "outputs": [
    {
     "data": {
      "text/plain": [
       "368.5"
      ]
     },
     "execution_count": 182,
     "metadata": {},
     "output_type": "execute_result"
    }
   ],
   "source": [
    "filter_high_valued_cust = np.percentile(telecom_data['goodphase_total_avg_rech_amnt'] ,70)\n",
    "filter_high_valued_cust"
   ]
  },
  {
   "cell_type": "code",
   "execution_count": 183,
   "metadata": {},
   "outputs": [],
   "source": [
    "telecom_data = telecom_data.loc[telecom_data['goodphase_total_avg_rech_amnt'] > filter_high_valued_cust]"
   ]
  },
  {
   "cell_type": "code",
   "execution_count": 184,
   "metadata": {},
   "outputs": [
    {
     "data": {
      "text/plain": [
       "(29979, 227)"
      ]
     },
     "execution_count": 184,
     "metadata": {},
     "output_type": "execute_result"
    }
   ],
   "source": [
    "telecom_data.shape"
   ]
  },
  {
   "cell_type": "code",
   "execution_count": 185,
   "metadata": {},
   "outputs": [],
   "source": [
    "telecom_data['churn']= 0"
   ]
  },
  {
   "cell_type": "code",
   "execution_count": 186,
   "metadata": {},
   "outputs": [],
   "source": [
    "ls_9 = ['total_ic_mou_9', 'total_ic_mou_9', 'vol_2g_mb_9','vol_3g_mb_9']"
   ]
  },
  {
   "cell_type": "code",
   "execution_count": 187,
   "metadata": {},
   "outputs": [],
   "source": [
    "churned_cust = (telecom_data.total_ic_mou_9 == 0) & (telecom_data.total_ic_mou_9 == 0) & (telecom_data.vol_2g_mb_9 ==0)& (telecom_data.vol_3g_mb_9 ==0)"
   ]
  },
  {
   "cell_type": "code",
   "execution_count": 188,
   "metadata": {},
   "outputs": [],
   "source": [
    "telecom_data.loc[churned_cust,'churn']=1"
   ]
  },
  {
   "cell_type": "code",
   "execution_count": 189,
   "metadata": {},
   "outputs": [
    {
     "data": {
      "text/plain": [
       "0    27303\n",
       "1     2676\n",
       "Name: churn, dtype: int64"
      ]
     },
     "execution_count": 189,
     "metadata": {},
     "output_type": "execute_result"
    }
   ],
   "source": [
    "telecom_data['churn'].value_counts()"
   ]
  },
  {
   "cell_type": "code",
   "execution_count": 190,
   "metadata": {},
   "outputs": [],
   "source": [
    "columns_9= ['last_date_of_month_9', 'arpu_9', 'onnet_mou_9', 'offnet_mou_9',\n",
    "       'roam_ic_mou_9', 'roam_og_mou_9', 'loc_og_t2t_mou_9',\n",
    "       'loc_og_t2m_mou_9', 'loc_og_t2f_mou_9', 'loc_og_t2c_mou_9',\n",
    "       'loc_og_mou_9', 'std_og_t2t_mou_9', 'std_og_t2m_mou_9',\n",
    "       'std_og_t2f_mou_9', 'std_og_t2c_mou_9', 'std_og_mou_9', 'isd_og_mou_9',\n",
    "       'spl_og_mou_9', 'og_others_9', 'total_og_mou_9', 'loc_ic_t2t_mou_9',\n",
    "       'loc_ic_t2m_mou_9', 'loc_ic_t2f_mou_9', 'loc_ic_mou_9',\n",
    "       'std_ic_t2t_mou_9', 'std_ic_t2m_mou_9', 'std_ic_t2f_mou_9',\n",
    "       'std_ic_t2o_mou_9', 'std_ic_mou_9', 'total_ic_mou_9', 'spl_ic_mou_9',\n",
    "       'isd_ic_mou_9', 'ic_others_9', 'total_rech_num_9', 'total_rech_amt_9',\n",
    "       'max_rech_amt_9', 'date_of_last_rech_9', 'last_day_rch_amt_9',\n",
    "       'date_of_last_rech_data_9', 'total_rech_data_9', 'max_rech_data_9',\n",
    "       'count_rech_2g_9', 'count_rech_3g_9', 'av_rech_amt_data_9',\n",
    "       'vol_2g_mb_9', 'vol_3g_mb_9', 'arpu_3g_9', 'arpu_2g_9',\n",
    "       'night_pck_user_9', 'monthly_2g_9', 'sachet_2g_9', 'monthly_3g_9',\n",
    "       'sachet_3g_9', 'fb_user_9']\n",
    "telecom_data.drop(columns_9,axis=1,inplace=True)"
   ]
  },
  {
   "cell_type": "code",
   "execution_count": 191,
   "metadata": {},
   "outputs": [
    {
     "data": {
      "text/plain": [
       "(29979, 174)"
      ]
     },
     "execution_count": 191,
     "metadata": {},
     "output_type": "execute_result"
    }
   ],
   "source": [
    "telecom_data.shape"
   ]
  },
  {
   "cell_type": "code",
   "execution_count": 192,
   "metadata": {},
   "outputs": [
    {
     "data": {
      "text/plain": [
       "8.926248373861704"
      ]
     },
     "execution_count": 192,
     "metadata": {},
     "output_type": "execute_result"
    }
   ],
   "source": [
    "100*telecom_data.churn.sum()/len(churned_cust)"
   ]
  },
  {
   "cell_type": "code",
   "execution_count": 193,
   "metadata": {},
   "outputs": [],
   "source": [
    "from sklearn.decomposition import PCA\n",
    "pca = PCA(svd_solver='randomized', random_state=98)"
   ]
  },
  {
   "cell_type": "code",
   "execution_count": 194,
   "metadata": {},
   "outputs": [
    {
     "data": {
      "text/html": [
       "<div>\n",
       "<style scoped>\n",
       "    .dataframe tbody tr th:only-of-type {\n",
       "        vertical-align: middle;\n",
       "    }\n",
       "\n",
       "    .dataframe tbody tr th {\n",
       "        vertical-align: top;\n",
       "    }\n",
       "\n",
       "    .dataframe thead th {\n",
       "        text-align: right;\n",
       "    }\n",
       "</style>\n",
       "<table border=\"1\" class=\"dataframe\">\n",
       "  <thead>\n",
       "    <tr style=\"text-align: right;\">\n",
       "      <th></th>\n",
       "      <th>mobile_number</th>\n",
       "      <th>circle_id</th>\n",
       "      <th>loc_og_t2o_mou</th>\n",
       "      <th>std_og_t2o_mou</th>\n",
       "      <th>loc_ic_t2o_mou</th>\n",
       "      <th>last_date_of_month_6</th>\n",
       "      <th>last_date_of_month_7</th>\n",
       "      <th>last_date_of_month_8</th>\n",
       "      <th>arpu_6</th>\n",
       "      <th>arpu_7</th>\n",
       "      <th>...</th>\n",
       "      <th>fb_user_6</th>\n",
       "      <th>fb_user_7</th>\n",
       "      <th>fb_user_8</th>\n",
       "      <th>aon</th>\n",
       "      <th>aug_vbc_3g</th>\n",
       "      <th>jul_vbc_3g</th>\n",
       "      <th>jun_vbc_3g</th>\n",
       "      <th>sep_vbc_3g</th>\n",
       "      <th>goodphase_total_avg_rech_amnt</th>\n",
       "      <th>churn</th>\n",
       "    </tr>\n",
       "  </thead>\n",
       "  <tbody>\n",
       "    <tr>\n",
       "      <th>7</th>\n",
       "      <td>7000701601</td>\n",
       "      <td>109</td>\n",
       "      <td>0.0</td>\n",
       "      <td>0.0</td>\n",
       "      <td>0.0</td>\n",
       "      <td>6/30/2014</td>\n",
       "      <td>7/31/2014</td>\n",
       "      <td>8/31/2014</td>\n",
       "      <td>1069.180</td>\n",
       "      <td>1349.850</td>\n",
       "      <td>...</td>\n",
       "      <td>NaN</td>\n",
       "      <td>NaN</td>\n",
       "      <td>NaN</td>\n",
       "      <td>802</td>\n",
       "      <td>57.74</td>\n",
       "      <td>19.38</td>\n",
       "      <td>18.74</td>\n",
       "      <td>0.0</td>\n",
       "      <td>1185.0</td>\n",
       "      <td>1</td>\n",
       "    </tr>\n",
       "    <tr>\n",
       "      <th>8</th>\n",
       "      <td>7001524846</td>\n",
       "      <td>109</td>\n",
       "      <td>0.0</td>\n",
       "      <td>0.0</td>\n",
       "      <td>0.0</td>\n",
       "      <td>6/30/2014</td>\n",
       "      <td>7/31/2014</td>\n",
       "      <td>8/31/2014</td>\n",
       "      <td>378.721</td>\n",
       "      <td>492.223</td>\n",
       "      <td>...</td>\n",
       "      <td>NaN</td>\n",
       "      <td>1.0</td>\n",
       "      <td>1.0</td>\n",
       "      <td>315</td>\n",
       "      <td>21.03</td>\n",
       "      <td>910.65</td>\n",
       "      <td>122.16</td>\n",
       "      <td>0.0</td>\n",
       "      <td>519.0</td>\n",
       "      <td>0</td>\n",
       "    </tr>\n",
       "    <tr>\n",
       "      <th>13</th>\n",
       "      <td>7002191713</td>\n",
       "      <td>109</td>\n",
       "      <td>0.0</td>\n",
       "      <td>0.0</td>\n",
       "      <td>0.0</td>\n",
       "      <td>6/30/2014</td>\n",
       "      <td>7/31/2014</td>\n",
       "      <td>8/31/2014</td>\n",
       "      <td>492.846</td>\n",
       "      <td>205.671</td>\n",
       "      <td>...</td>\n",
       "      <td>NaN</td>\n",
       "      <td>NaN</td>\n",
       "      <td>1.0</td>\n",
       "      <td>2607</td>\n",
       "      <td>0.00</td>\n",
       "      <td>0.00</td>\n",
       "      <td>0.00</td>\n",
       "      <td>0.0</td>\n",
       "      <td>380.0</td>\n",
       "      <td>0</td>\n",
       "    </tr>\n",
       "    <tr>\n",
       "      <th>16</th>\n",
       "      <td>7000875565</td>\n",
       "      <td>109</td>\n",
       "      <td>0.0</td>\n",
       "      <td>0.0</td>\n",
       "      <td>0.0</td>\n",
       "      <td>6/30/2014</td>\n",
       "      <td>7/31/2014</td>\n",
       "      <td>8/31/2014</td>\n",
       "      <td>430.975</td>\n",
       "      <td>299.869</td>\n",
       "      <td>...</td>\n",
       "      <td>NaN</td>\n",
       "      <td>NaN</td>\n",
       "      <td>NaN</td>\n",
       "      <td>511</td>\n",
       "      <td>0.00</td>\n",
       "      <td>2.45</td>\n",
       "      <td>21.89</td>\n",
       "      <td>0.0</td>\n",
       "      <td>459.0</td>\n",
       "      <td>0</td>\n",
       "    </tr>\n",
       "    <tr>\n",
       "      <th>17</th>\n",
       "      <td>7000187447</td>\n",
       "      <td>109</td>\n",
       "      <td>0.0</td>\n",
       "      <td>0.0</td>\n",
       "      <td>0.0</td>\n",
       "      <td>6/30/2014</td>\n",
       "      <td>7/31/2014</td>\n",
       "      <td>8/31/2014</td>\n",
       "      <td>690.008</td>\n",
       "      <td>18.980</td>\n",
       "      <td>...</td>\n",
       "      <td>NaN</td>\n",
       "      <td>NaN</td>\n",
       "      <td>NaN</td>\n",
       "      <td>667</td>\n",
       "      <td>0.00</td>\n",
       "      <td>0.00</td>\n",
       "      <td>0.00</td>\n",
       "      <td>0.0</td>\n",
       "      <td>408.0</td>\n",
       "      <td>0</td>\n",
       "    </tr>\n",
       "  </tbody>\n",
       "</table>\n",
       "<p>5 rows × 174 columns</p>\n",
       "</div>"
      ],
      "text/plain": [
       "    mobile_number  circle_id  loc_og_t2o_mou  std_og_t2o_mou  loc_ic_t2o_mou  \\\n",
       "7      7000701601        109             0.0             0.0             0.0   \n",
       "8      7001524846        109             0.0             0.0             0.0   \n",
       "13     7002191713        109             0.0             0.0             0.0   \n",
       "16     7000875565        109             0.0             0.0             0.0   \n",
       "17     7000187447        109             0.0             0.0             0.0   \n",
       "\n",
       "   last_date_of_month_6 last_date_of_month_7 last_date_of_month_8    arpu_6  \\\n",
       "7             6/30/2014            7/31/2014            8/31/2014  1069.180   \n",
       "8             6/30/2014            7/31/2014            8/31/2014   378.721   \n",
       "13            6/30/2014            7/31/2014            8/31/2014   492.846   \n",
       "16            6/30/2014            7/31/2014            8/31/2014   430.975   \n",
       "17            6/30/2014            7/31/2014            8/31/2014   690.008   \n",
       "\n",
       "      arpu_7  ...    fb_user_6  fb_user_7  fb_user_8   aon  aug_vbc_3g  \\\n",
       "7   1349.850  ...          NaN        NaN        NaN   802       57.74   \n",
       "8    492.223  ...          NaN        1.0        1.0   315       21.03   \n",
       "13   205.671  ...          NaN        NaN        1.0  2607        0.00   \n",
       "16   299.869  ...          NaN        NaN        NaN   511        0.00   \n",
       "17    18.980  ...          NaN        NaN        NaN   667        0.00   \n",
       "\n",
       "    jul_vbc_3g  jun_vbc_3g  sep_vbc_3g  goodphase_total_avg_rech_amnt  churn  \n",
       "7        19.38       18.74         0.0                         1185.0      1  \n",
       "8       910.65      122.16         0.0                          519.0      0  \n",
       "13        0.00        0.00         0.0                          380.0      0  \n",
       "16        2.45       21.89         0.0                          459.0      0  \n",
       "17        0.00        0.00         0.0                          408.0      0  \n",
       "\n",
       "[5 rows x 174 columns]"
      ]
     },
     "execution_count": 194,
     "metadata": {},
     "output_type": "execute_result"
    }
   ],
   "source": [
    "telecom_data.head()"
   ]
  },
  {
   "cell_type": "code",
   "execution_count": 195,
   "metadata": {},
   "outputs": [],
   "source": [
    "telecom_data.drop(['last_date_of_month_6'], axis = 1, inplace = True)\n",
    "telecom_data.drop(['last_date_of_month_7'], axis = 1, inplace = True)\n",
    "telecom_data.drop(['last_date_of_month_8'], axis = 1, inplace = True)\n",
    "telecom_data.drop(['date_of_last_rech_6'], axis = 1, inplace = True)\n",
    "telecom_data.drop(['date_of_last_rech_7'], axis = 1, inplace = True)\n",
    "telecom_data.drop(['date_of_last_rech_8'], axis = 1, inplace = True)\n",
    "telecom_data.drop(['date_of_last_rech_data_6'], axis = 1, inplace = True)\n",
    "telecom_data.drop(['date_of_last_rech_data_7'], axis = 1, inplace = True)\n",
    "telecom_data.drop(['date_of_last_rech_data_8'], axis = 1, inplace = True)\n",
    "telecom_data.drop(['circle_id'], axis = 1, inplace = True)\n",
    "telecom_data.drop(['mobile_number'], axis = 1, inplace = True)"
   ]
  },
  {
   "cell_type": "code",
   "execution_count": 196,
   "metadata": {},
   "outputs": [
    {
     "name": "stdout",
     "output_type": "stream",
     "text": [
      "<class 'pandas.core.frame.DataFrame'>\n",
      "Int64Index: 29979 entries, 7 to 99997\n",
      "Columns: 163 entries, loc_og_t2o_mou to churn\n",
      "dtypes: float64(137), int64(26)\n",
      "memory usage: 37.5 MB\n"
     ]
    }
   ],
   "source": [
    "telecom_data.info()"
   ]
  },
  {
   "cell_type": "code",
   "execution_count": 197,
   "metadata": {},
   "outputs": [],
   "source": [
    "telecom_data.fillna(0, inplace = True)"
   ]
  },
  {
   "cell_type": "code",
   "execution_count": 198,
   "metadata": {},
   "outputs": [
    {
     "data": {
      "text/plain": [
       "PCA(copy=True, iterated_power='auto', n_components=None, random_state=98,\n",
       "  svd_solver='randomized', tol=0.0, whiten=False)"
      ]
     },
     "execution_count": 198,
     "metadata": {},
     "output_type": "execute_result"
    }
   ],
   "source": [
    "pca.fit(telecom_data)"
   ]
  },
  {
   "cell_type": "code",
   "execution_count": 199,
   "metadata": {},
   "outputs": [
    {
     "data": {
      "text/plain": [
       "array([[-7.79166765e-17, -0.00000000e+00,  1.11022302e-16, ...,\n",
       "        -6.99888137e-04,  1.54994436e-01, -2.03868423e-06],\n",
       "       [-6.33566825e-17,  2.22044605e-16,  1.11022302e-16, ...,\n",
       "         5.12764664e-03,  1.66172346e-01, -1.77077655e-05],\n",
       "       [ 1.04710922e-17, -9.02056208e-17, -5.55111512e-17, ...,\n",
       "         6.34748477e-04,  1.17270037e-01, -3.79522386e-05],\n",
       "       ...,\n",
       "       [-0.00000000e+00,  3.23246243e-04, -8.76202237e-03, ...,\n",
       "        -1.29833210e-17,  6.91477437e-05, -2.82882535e-17],\n",
       "       [ 0.00000000e+00, -8.52860045e-01,  3.00093320e-01, ...,\n",
       "        -4.21884749e-15, -6.40395785e-02,  1.80883954e-14],\n",
       "       [ 1.00000000e+00, -2.83955832e-25, -4.21778627e-26, ...,\n",
       "         4.38674495e-15, -2.27093498e-17, -1.77157237e-14]])"
      ]
     },
     "execution_count": 199,
     "metadata": {},
     "output_type": "execute_result"
    }
   ],
   "source": [
    "pca.components_"
   ]
  },
  {
   "cell_type": "code",
   "execution_count": 200,
   "metadata": {},
   "outputs": [
    {
     "data": {
      "text/html": [
       "<div>\n",
       "<style scoped>\n",
       "    .dataframe tbody tr th:only-of-type {\n",
       "        vertical-align: middle;\n",
       "    }\n",
       "\n",
       "    .dataframe tbody tr th {\n",
       "        vertical-align: top;\n",
       "    }\n",
       "\n",
       "    .dataframe thead th {\n",
       "        text-align: right;\n",
       "    }\n",
       "</style>\n",
       "<table border=\"1\" class=\"dataframe\">\n",
       "  <thead>\n",
       "    <tr style=\"text-align: right;\">\n",
       "      <th></th>\n",
       "      <th>PC1</th>\n",
       "      <th>PC2</th>\n",
       "      <th>PC3</th>\n",
       "      <th>PC4</th>\n",
       "      <th>PC5</th>\n",
       "      <th>PC6</th>\n",
       "      <th>PC7</th>\n",
       "      <th>PC8</th>\n",
       "      <th>PC9</th>\n",
       "      <th>Feature</th>\n",
       "    </tr>\n",
       "  </thead>\n",
       "  <tbody>\n",
       "    <tr>\n",
       "      <th>0</th>\n",
       "      <td>-7.791668e-17</td>\n",
       "      <td>-6.335668e-17</td>\n",
       "      <td>1.047109e-17</td>\n",
       "      <td>-4.484415e-20</td>\n",
       "      <td>-1.211853e-19</td>\n",
       "      <td>-8.982827e-19</td>\n",
       "      <td>-3.754226e-19</td>\n",
       "      <td>9.528431e-20</td>\n",
       "      <td>2.725731e-20</td>\n",
       "      <td>loc_og_t2o_mou</td>\n",
       "    </tr>\n",
       "    <tr>\n",
       "      <th>1</th>\n",
       "      <td>-0.000000e+00</td>\n",
       "      <td>2.220446e-16</td>\n",
       "      <td>-9.020562e-17</td>\n",
       "      <td>-1.937198e-16</td>\n",
       "      <td>-7.806256e-18</td>\n",
       "      <td>1.960238e-16</td>\n",
       "      <td>-3.771939e-16</td>\n",
       "      <td>-9.443401e-17</td>\n",
       "      <td>1.582393e-16</td>\n",
       "      <td>std_og_t2o_mou</td>\n",
       "    </tr>\n",
       "    <tr>\n",
       "      <th>2</th>\n",
       "      <td>1.110223e-16</td>\n",
       "      <td>1.110223e-16</td>\n",
       "      <td>-5.551115e-17</td>\n",
       "      <td>-1.434399e-16</td>\n",
       "      <td>-6.938894e-18</td>\n",
       "      <td>-6.938894e-18</td>\n",
       "      <td>-2.003606e-16</td>\n",
       "      <td>5.431853e-17</td>\n",
       "      <td>-7.749335e-17</td>\n",
       "      <td>loc_ic_t2o_mou</td>\n",
       "    </tr>\n",
       "    <tr>\n",
       "      <th>3</th>\n",
       "      <td>1.145874e-01</td>\n",
       "      <td>1.310041e-01</td>\n",
       "      <td>9.327890e-02</td>\n",
       "      <td>6.603532e-02</td>\n",
       "      <td>1.725741e-01</td>\n",
       "      <td>-1.688755e-01</td>\n",
       "      <td>1.954973e-01</td>\n",
       "      <td>-1.261563e-02</td>\n",
       "      <td>1.311683e-01</td>\n",
       "      <td>arpu_6</td>\n",
       "    </tr>\n",
       "    <tr>\n",
       "      <th>4</th>\n",
       "      <td>1.439543e-01</td>\n",
       "      <td>1.515575e-01</td>\n",
       "      <td>9.780990e-02</td>\n",
       "      <td>6.711636e-02</td>\n",
       "      <td>7.284563e-02</td>\n",
       "      <td>6.928609e-02</td>\n",
       "      <td>2.224727e-01</td>\n",
       "      <td>-2.347206e-02</td>\n",
       "      <td>-2.457138e-01</td>\n",
       "      <td>arpu_7</td>\n",
       "    </tr>\n",
       "  </tbody>\n",
       "</table>\n",
       "</div>"
      ],
      "text/plain": [
       "            PC1           PC2           PC3           PC4           PC5  \\\n",
       "0 -7.791668e-17 -6.335668e-17  1.047109e-17 -4.484415e-20 -1.211853e-19   \n",
       "1 -0.000000e+00  2.220446e-16 -9.020562e-17 -1.937198e-16 -7.806256e-18   \n",
       "2  1.110223e-16  1.110223e-16 -5.551115e-17 -1.434399e-16 -6.938894e-18   \n",
       "3  1.145874e-01  1.310041e-01  9.327890e-02  6.603532e-02  1.725741e-01   \n",
       "4  1.439543e-01  1.515575e-01  9.780990e-02  6.711636e-02  7.284563e-02   \n",
       "\n",
       "            PC6           PC7           PC8           PC9         Feature  \n",
       "0 -8.982827e-19 -3.754226e-19  9.528431e-20  2.725731e-20  loc_og_t2o_mou  \n",
       "1  1.960238e-16 -3.771939e-16 -9.443401e-17  1.582393e-16  std_og_t2o_mou  \n",
       "2 -6.938894e-18 -2.003606e-16  5.431853e-17 -7.749335e-17  loc_ic_t2o_mou  \n",
       "3 -1.688755e-01  1.954973e-01 -1.261563e-02  1.311683e-01          arpu_6  \n",
       "4  6.928609e-02  2.224727e-01 -2.347206e-02 -2.457138e-01          arpu_7  "
      ]
     },
     "execution_count": 200,
     "metadata": {},
     "output_type": "execute_result"
    }
   ],
   "source": [
    "pcs=pd.DataFrame({'PC1':pca.components_[0],'PC2':pca.components_[1], 'PC3':pca.components_[2], \n",
    "                           'PC4':pca.components_[3], 'PC5':pca.components_[4],'PC6':pca.components_[5],\n",
    "                           'PC7':pca.components_[6], 'PC8':pca.components_[7], 'PC9':pca.components_[8],\n",
    "                           'Feature':telecom_data.columns }).head()\n",
    "pcs"
   ]
  },
  {
   "cell_type": "code",
   "execution_count": 201,
   "metadata": {},
   "outputs": [
    {
     "data": {
      "text/plain": [
       "array([3.13465167e+06, 2.35355102e+06, 1.38076258e+06, 8.87192948e+05,\n",
       "       7.76706747e+05, 7.05490749e+05, 6.82980132e+05, 4.04578275e+05,\n",
       "       3.23779882e+05, 3.02034047e+05, 2.17852748e+05, 1.93087836e+05,\n",
       "       1.62426164e+05, 1.54867506e+05, 1.40391996e+05, 1.13717898e+05,\n",
       "       9.43232492e+04, 8.46638009e+04, 7.94195898e+04, 6.37498236e+04,\n",
       "       6.31588455e+04, 5.47946712e+04, 5.25438119e+04, 4.62770142e+04,\n",
       "       4.30359576e+04, 3.79092964e+04, 3.60515571e+04, 3.39035912e+04,\n",
       "       3.10216863e+04, 2.90573578e+04, 2.70770233e+04, 2.29146055e+04,\n",
       "       2.11377020e+04, 2.03898998e+04, 1.74867297e+04, 1.46449221e+04,\n",
       "       1.36092579e+04, 1.30361575e+04, 1.15910159e+04, 1.09241350e+04,\n",
       "       1.06856344e+04, 1.04565461e+04, 9.75138520e+03, 9.23032928e+03,\n",
       "       8.66886266e+03, 8.28282934e+03, 8.09848524e+03, 7.24534763e+03,\n",
       "       6.35907978e+03, 6.13732417e+03, 5.77626905e+03, 5.45454999e+03,\n",
       "       5.07725024e+03, 5.07464204e+03, 4.92752401e+03, 4.40248096e+03,\n",
       "       3.14521737e+03, 3.05740184e+03, 2.99992839e+03, 2.67071565e+03,\n",
       "       2.27770365e+03, 2.14158221e+03, 2.10827657e+03, 1.83409584e+03,\n",
       "       1.74440015e+03, 1.58065940e+03, 1.54982221e+03, 1.33600735e+03,\n",
       "       1.30010607e+03, 1.26575691e+03, 1.22069231e+03, 1.14480954e+03,\n",
       "       1.11354383e+03, 8.83218469e+02, 8.32955170e+02, 6.54629935e+02,\n",
       "       5.66142958e+02, 5.60677472e+02, 4.29838945e+02, 3.94062441e+02,\n",
       "       3.19211742e+02, 2.10900807e+02, 1.86634117e+02, 1.82795837e+02,\n",
       "       1.53849459e+02, 1.43893780e+02, 1.30277015e+02, 1.10514586e+02,\n",
       "       9.93790816e+01, 9.16140307e+01, 8.09050222e+01, 7.44559982e+01,\n",
       "       7.19960044e+01, 6.53385626e+01, 4.67221846e+01, 2.88159986e+01,\n",
       "       2.30032872e+01, 2.24638157e+01, 1.80268744e+01, 1.53268896e+01,\n",
       "       1.37865319e+01, 1.23819882e+01, 1.20525747e+01, 4.93732215e+00,\n",
       "       4.16318198e+00, 3.44712248e+00, 3.15290332e+00, 2.06364127e+00,\n",
       "       7.72462549e-01, 4.38636560e-01, 2.62960330e-01, 1.78338513e-01,\n",
       "       1.07031444e-01, 7.23673913e-02, 6.71768973e-02, 6.65629733e-02,\n",
       "       6.48891515e-02, 5.73861177e-02, 5.66534897e-02, 3.92346348e-02,\n",
       "       3.35568015e-02, 2.93783219e-02, 1.52273500e-02, 1.50520876e-02,\n",
       "       5.67468345e-03, 4.15041875e-03, 2.38285953e-05, 1.28075696e-05,\n",
       "       9.28658975e-06, 8.99323815e-06, 8.26252857e-06, 7.63750562e-06,\n",
       "       7.61132883e-06, 7.03334797e-06, 6.94903135e-06, 6.31314529e-06,\n",
       "       5.86345669e-06, 5.50802283e-06, 5.19573370e-06, 5.00088263e-06,\n",
       "       4.96807634e-06, 4.73858550e-06, 4.52318957e-06, 4.37785250e-06,\n",
       "       2.86298883e-26, 2.86298883e-26, 2.86298883e-26, 2.86298883e-26,\n",
       "       2.86298883e-26, 2.86298883e-26, 2.86298883e-26, 2.86298883e-26,\n",
       "       2.86298883e-26, 2.86298883e-26, 2.86298883e-26, 2.86298883e-26,\n",
       "       2.86298883e-26, 2.86298883e-26, 2.86298883e-26, 2.86298883e-26,\n",
       "       2.86298883e-26, 4.88218191e-28, 4.49220151e-28])"
      ]
     },
     "execution_count": 201,
     "metadata": {},
     "output_type": "execute_result"
    }
   ],
   "source": [
    "pca.explained_variance_"
   ]
  },
  {
   "cell_type": "code",
   "execution_count": 202,
   "metadata": {},
   "outputs": [
    {
     "data": {
      "image/png": "[encoded data removed]",
      "text/plain": [
       "<Figure size 864x576 with 1 Axes>"
      ]
     },
     "metadata": {
      "needs_background": "light"
     },
     "output_type": "display_data"
    }
   ],
   "source": [
    "fig = plt.figure(figsize = (12,8))\n",
    "plt.plot(np.cumsum(pca.explained_variance_ratio_))\n",
    "plt.xlabel('number of components')\n",
    "plt.ylabel('cumulative explained variance')\n",
    "plt.show()"
   ]
  },
  {
   "cell_type": "code",
   "execution_count": 203,
   "metadata": {},
   "outputs": [],
   "source": [
    "from sklearn.decomposition import IncrementalPCA\n",
    "inc_pca = IncrementalPCA(n_components=10)"
   ]
  },
  {
   "cell_type": "code",
   "execution_count": 204,
   "metadata": {},
   "outputs": [],
   "source": [
    "X_norm_pca= inc_pca.fit_transform(telecom_data)"
   ]
  },
  {
   "cell_type": "code",
   "execution_count": 205,
   "metadata": {},
   "outputs": [
    {
     "data": {
      "text/plain": [
       "(29979, 10)"
      ]
     },
     "execution_count": 205,
     "metadata": {},
     "output_type": "execute_result"
    }
   ],
   "source": [
    "X_norm_pca.shape"
   ]
  },
  {
   "cell_type": "code",
   "execution_count": 206,
   "metadata": {},
   "outputs": [],
   "source": [
    "corrmat = np.corrcoef(X_norm_pca.transpose())"
   ]
  },
  {
   "cell_type": "code",
   "execution_count": 209,
   "metadata": {},
   "outputs": [
    {
     "data": {
      "image/png": "[encoded data removed]",
      "text/plain": [
       "<Figure size 576x576 with 1 Axes>"
      ]
     },
     "metadata": {
      "needs_background": "light"
     },
     "output_type": "display_data"
    }
   ],
   "source": [
    "%matplotlib inline\n",
    "fig = plt.figure(figsize = (8,8))\n",
    "plt.scatter(pcs.PC1, pcs.PC2)\n",
    "plt.xlabel('Principal Component 1')\n",
    "plt.ylabel('Principal Component 2')\n",
    "for i, txt in enumerate(pcs.Feature):\n",
    "    plt.annotate(txt, (pcs.PC1[i],pcs.PC2[i]))\n",
    "plt.tight_layout()\n",
    "plt.show()"
   ]
  },
  {
   "cell_type": "code",
   "execution_count": 210,
   "metadata": {},
   "outputs": [
    {
     "data": {
      "text/plain": [
       "<matplotlib.axes._subplots.AxesSubplot at 0xdac0ac8>"
      ]
     },
     "execution_count": 210,
     "metadata": {},
     "output_type": "execute_result"
    },
    {
     "data": {
      "image/png": "[encoded data removed]",
      "text/plain": [
       "<Figure size 1440x720 with 2 Axes>"
      ]
     },
     "metadata": {
      "needs_background": "light"
     },
     "output_type": "display_data"
    }
   ],
   "source": [
    "%matplotlib inline\n",
    "plt.figure(figsize = (20,10))\n",
    "sns.heatmap(corrmat,annot = True)"
   ]
  },
  {
   "cell_type": "code",
   "execution_count": 211,
   "metadata": {},
   "outputs": [
    {
     "name": "stdout",
     "output_type": "stream",
     "text": [
      "max corr: 0.0016592130667514708 , min corr:  -0.005702993488415629\n"
     ]
    }
   ],
   "source": [
    "corrmat_nodiag = corrmat - np.diagflat(corrmat.diagonal())\n",
    "print(\"max corr:\",corrmat_nodiag.max(), \", min corr: \", corrmat_nodiag.min(),)"
   ]
  },
  {
   "cell_type": "code",
   "execution_count": 214,
   "metadata": {},
   "outputs": [],
   "source": [
    "from sklearn.svm import SVC\n",
    "from sklearn.model_selection import train_test_split\n",
    "from sklearn import metrics"
   ]
  },
  {
   "cell_type": "code",
   "execution_count": 217,
   "metadata": {},
   "outputs": [],
   "source": [
    "X = telecom_data\n",
    "y = telecom_data['churn']\n",
    "\n",
    "# Splitting the data into train and test\n",
    "X_train, X_test, y_train, y_test = train_test_split(X, y, test_size=0.30, random_state=101)"
   ]
  },
  {
   "cell_type": "code",
   "execution_count": 218,
   "metadata": {},
   "outputs": [],
   "source": [
    "# Importing random forest classifier from sklearn library\n",
    "from sklearn.ensemble import RandomForestClassifier\n",
    "\n",
    "# Running the random forest with default parameters.\n",
    "rfc = RandomForestClassifier()"
   ]
  },
  {
   "cell_type": "code",
   "execution_count": 219,
   "metadata": {},
   "outputs": [
    {
     "data": {
      "text/plain": [
       "RandomForestClassifier(bootstrap=True, class_weight=None, criterion='gini',\n",
       "            max_depth=None, max_features='auto', max_leaf_nodes=None,\n",
       "            min_impurity_decrease=0.0, min_impurity_split=None,\n",
       "            min_samples_leaf=1, min_samples_split=2,\n",
       "            min_weight_fraction_leaf=0.0, n_estimators=10, n_jobs=1,\n",
       "            oob_score=False, random_state=None, verbose=0,\n",
       "            warm_start=False)"
      ]
     },
     "execution_count": 219,
     "metadata": {},
     "output_type": "execute_result"
    }
   ],
   "source": [
    "# fit\n",
    "rfc.fit(X_train,y_train)"
   ]
  },
  {
   "cell_type": "code",
   "execution_count": 220,
   "metadata": {},
   "outputs": [],
   "source": [
    "# Making predictions\n",
    "predictions = rfc.predict(X_test)"
   ]
  },
  {
   "cell_type": "code",
   "execution_count": 221,
   "metadata": {},
   "outputs": [],
   "source": [
    "# Importing classification report and confusion matrix from sklearn metrics\n",
    "from sklearn.metrics import classification_report,confusion_matrix, accuracy_score"
   ]
  },
  {
   "cell_type": "code",
   "execution_count": 222,
   "metadata": {},
   "outputs": [
    {
     "name": "stdout",
     "output_type": "stream",
     "text": [
      "             precision    recall  f1-score   support\n",
      "\n",
      "          0       0.99      1.00      0.99      8177\n",
      "          1       1.00      0.88      0.94       817\n",
      "\n",
      "avg / total       0.99      0.99      0.99      8994\n",
      "\n"
     ]
    }
   ],
   "source": [
    "# Let's check the report of our default model\n",
    "print(classification_report(y_test,predictions))"
   ]
  },
  {
   "cell_type": "code",
   "execution_count": 223,
   "metadata": {},
   "outputs": [
    {
     "name": "stdout",
     "output_type": "stream",
     "text": [
      "[[8174    3]\n",
      " [  96  721]]\n"
     ]
    }
   ],
   "source": [
    "# Printing confusion matrix\n",
    "print(confusion_matrix(y_test,predictions))"
   ]
  },
  {
   "cell_type": "code",
   "execution_count": 225,
   "metadata": {},
   "outputs": [
    {
     "name": "stdout",
     "output_type": "stream",
     "text": [
      "0.9889926617745164\n"
     ]
    }
   ],
   "source": [
    "print(accuracy_score(y_test,predictions))"
   ]
  },
  {
   "cell_type": "code",
   "execution_count": 227,
   "metadata": {},
   "outputs": [
    {
     "data": {
      "text/plain": [
       "GridSearchCV(cv=7, error_score='raise',\n",
       "       estimator=RandomForestClassifier(bootstrap=True, class_weight={0: 0.05, 1: 0.95},\n",
       "            criterion='gini', max_depth=None, max_features='auto',\n",
       "            max_leaf_nodes=None, min_impurity_decrease=0.0,\n",
       "            min_impurity_split=None, min_samples_leaf=1,\n",
       "            min_samples_split=2, min_weight_fraction_leaf=0.0,\n",
       "            n_estimators=10, n_jobs=1, oob_score=False, random_state=None,\n",
       "            verbose=0, warm_start=False),\n",
       "       fit_params=None, iid=True, n_jobs=1,\n",
       "       param_grid={'max_depth': range(2, 20, 5)}, pre_dispatch='2*n_jobs',\n",
       "       refit=True, return_train_score='warn', scoring='recall', verbose=0)"
      ]
     },
     "execution_count": 227,
     "metadata": {},
     "output_type": "execute_result"
    }
   ],
   "source": [
    "from sklearn.model_selection import KFold\n",
    "from sklearn.model_selection import GridSearchCV\n",
    "\n",
    "\n",
    "# specify number of folds for k-fold CV\n",
    "n_folds = 7\n",
    "\n",
    "# parameters to build the model on\n",
    "parameters = {'max_depth': range(2, 20, 5)}\n",
    "\n",
    "# instantiate the model\n",
    "rf = RandomForestClassifier(class_weight={0:0.05 , 1:0.95})\n",
    "\n",
    "\n",
    "# fit tree on training data\n",
    "rf = GridSearchCV(rf, parameters, \n",
    "                    cv=n_folds, \n",
    "                   scoring=\"recall\")\n",
    "rf.fit(X_train, y_train)"
   ]
  },
  {
   "cell_type": "code",
   "execution_count": 228,
   "metadata": {},
   "outputs": [
    {
     "data": {
      "text/html": [
       "<div>\n",
       "<style scoped>\n",
       "    .dataframe tbody tr th:only-of-type {\n",
       "        vertical-align: middle;\n",
       "    }\n",
       "\n",
       "    .dataframe tbody tr th {\n",
       "        vertical-align: top;\n",
       "    }\n",
       "\n",
       "    .dataframe thead th {\n",
       "        text-align: right;\n",
       "    }\n",
       "</style>\n",
       "<table border=\"1\" class=\"dataframe\">\n",
       "  <thead>\n",
       "    <tr style=\"text-align: right;\">\n",
       "      <th></th>\n",
       "      <th>mean_fit_time</th>\n",
       "      <th>std_fit_time</th>\n",
       "      <th>mean_score_time</th>\n",
       "      <th>std_score_time</th>\n",
       "      <th>param_max_depth</th>\n",
       "      <th>params</th>\n",
       "      <th>split0_test_score</th>\n",
       "      <th>split1_test_score</th>\n",
       "      <th>split2_test_score</th>\n",
       "      <th>split3_test_score</th>\n",
       "      <th>...</th>\n",
       "      <th>rank_test_score</th>\n",
       "      <th>split0_train_score</th>\n",
       "      <th>split1_train_score</th>\n",
       "      <th>split2_train_score</th>\n",
       "      <th>split3_train_score</th>\n",
       "      <th>split4_train_score</th>\n",
       "      <th>split5_train_score</th>\n",
       "      <th>split6_train_score</th>\n",
       "      <th>mean_train_score</th>\n",
       "      <th>std_train_score</th>\n",
       "    </tr>\n",
       "  </thead>\n",
       "  <tbody>\n",
       "    <tr>\n",
       "      <th>0</th>\n",
       "      <td>0.288716</td>\n",
       "      <td>0.051656</td>\n",
       "      <td>0.010000</td>\n",
       "      <td>1.668582e-07</td>\n",
       "      <td>2</td>\n",
       "      <td>{'max_depth': 2}</td>\n",
       "      <td>0.977444</td>\n",
       "      <td>0.958647</td>\n",
       "      <td>0.928571</td>\n",
       "      <td>0.830827</td>\n",
       "      <td>...</td>\n",
       "      <td>1</td>\n",
       "      <td>0.960452</td>\n",
       "      <td>0.964218</td>\n",
       "      <td>0.913999</td>\n",
       "      <td>0.880728</td>\n",
       "      <td>0.942284</td>\n",
       "      <td>0.944166</td>\n",
       "      <td>0.942284</td>\n",
       "      <td>0.935447</td>\n",
       "      <td>0.026930</td>\n",
       "    </tr>\n",
       "    <tr>\n",
       "      <th>1</th>\n",
       "      <td>0.625858</td>\n",
       "      <td>0.099746</td>\n",
       "      <td>0.012857</td>\n",
       "      <td>4.517471e-03</td>\n",
       "      <td>7</td>\n",
       "      <td>{'max_depth': 7}</td>\n",
       "      <td>1.000000</td>\n",
       "      <td>0.921053</td>\n",
       "      <td>0.917293</td>\n",
       "      <td>0.838346</td>\n",
       "      <td>...</td>\n",
       "      <td>2</td>\n",
       "      <td>0.999372</td>\n",
       "      <td>0.979912</td>\n",
       "      <td>0.968613</td>\n",
       "      <td>0.949153</td>\n",
       "      <td>0.983061</td>\n",
       "      <td>0.986198</td>\n",
       "      <td>1.000000</td>\n",
       "      <td>0.980901</td>\n",
       "      <td>0.016469</td>\n",
       "    </tr>\n",
       "    <tr>\n",
       "      <th>2</th>\n",
       "      <td>0.742718</td>\n",
       "      <td>0.069730</td>\n",
       "      <td>0.011572</td>\n",
       "      <td>2.821634e-03</td>\n",
       "      <td>12</td>\n",
       "      <td>{'max_depth': 12}</td>\n",
       "      <td>0.909774</td>\n",
       "      <td>0.943609</td>\n",
       "      <td>0.954887</td>\n",
       "      <td>0.860902</td>\n",
       "      <td>...</td>\n",
       "      <td>3</td>\n",
       "      <td>0.998117</td>\n",
       "      <td>0.998117</td>\n",
       "      <td>0.999372</td>\n",
       "      <td>0.995606</td>\n",
       "      <td>0.993726</td>\n",
       "      <td>0.996236</td>\n",
       "      <td>0.997491</td>\n",
       "      <td>0.996952</td>\n",
       "      <td>0.001756</td>\n",
       "    </tr>\n",
       "    <tr>\n",
       "      <th>3</th>\n",
       "      <td>0.843734</td>\n",
       "      <td>0.110681</td>\n",
       "      <td>0.016000</td>\n",
       "      <td>3.585426e-03</td>\n",
       "      <td>17</td>\n",
       "      <td>{'max_depth': 17}</td>\n",
       "      <td>0.815789</td>\n",
       "      <td>0.936090</td>\n",
       "      <td>0.879699</td>\n",
       "      <td>0.800752</td>\n",
       "      <td>...</td>\n",
       "      <td>4</td>\n",
       "      <td>0.996861</td>\n",
       "      <td>0.998745</td>\n",
       "      <td>0.996861</td>\n",
       "      <td>0.994978</td>\n",
       "      <td>0.996236</td>\n",
       "      <td>0.999373</td>\n",
       "      <td>0.994981</td>\n",
       "      <td>0.996862</td>\n",
       "      <td>0.001573</td>\n",
       "    </tr>\n",
       "  </tbody>\n",
       "</table>\n",
       "<p>4 rows × 25 columns</p>\n",
       "</div>"
      ],
      "text/plain": [
       "   mean_fit_time  std_fit_time  mean_score_time  std_score_time  \\\n",
       "0       0.288716      0.051656         0.010000    1.668582e-07   \n",
       "1       0.625858      0.099746         0.012857    4.517471e-03   \n",
       "2       0.742718      0.069730         0.011572    2.821634e-03   \n",
       "3       0.843734      0.110681         0.016000    3.585426e-03   \n",
       "\n",
       "  param_max_depth             params  split0_test_score  split1_test_score  \\\n",
       "0               2   {'max_depth': 2}           0.977444           0.958647   \n",
       "1               7   {'max_depth': 7}           1.000000           0.921053   \n",
       "2              12  {'max_depth': 12}           0.909774           0.943609   \n",
       "3              17  {'max_depth': 17}           0.815789           0.936090   \n",
       "\n",
       "   split2_test_score  split3_test_score       ...         rank_test_score  \\\n",
       "0           0.928571           0.830827       ...                       1   \n",
       "1           0.917293           0.838346       ...                       2   \n",
       "2           0.954887           0.860902       ...                       3   \n",
       "3           0.879699           0.800752       ...                       4   \n",
       "\n",
       "   split0_train_score  split1_train_score  split2_train_score  \\\n",
       "0            0.960452            0.964218            0.913999   \n",
       "1            0.999372            0.979912            0.968613   \n",
       "2            0.998117            0.998117            0.999372   \n",
       "3            0.996861            0.998745            0.996861   \n",
       "\n",
       "   split3_train_score  split4_train_score  split5_train_score  \\\n",
       "0            0.880728            0.942284            0.944166   \n",
       "1            0.949153            0.983061            0.986198   \n",
       "2            0.995606            0.993726            0.996236   \n",
       "3            0.994978            0.996236            0.999373   \n",
       "\n",
       "   split6_train_score  mean_train_score  std_train_score  \n",
       "0            0.942284          0.935447         0.026930  \n",
       "1            1.000000          0.980901         0.016469  \n",
       "2            0.997491          0.996952         0.001756  \n",
       "3            0.994981          0.996862         0.001573  \n",
       "\n",
       "[4 rows x 25 columns]"
      ]
     },
     "execution_count": 228,
     "metadata": {},
     "output_type": "execute_result"
    }
   ],
   "source": [
    "# scores of GridSearch CV\n",
    "scores = rf.cv_results_\n",
    "pd.DataFrame(scores).head()"
   ]
  },
  {
   "cell_type": "code",
   "execution_count": 229,
   "metadata": {},
   "outputs": [
    {
     "data": {
      "image/png": "[encoded data removed]",
      "text/plain": [
       "<Figure size 432x288 with 1 Axes>"
      ]
     },
     "metadata": {
      "needs_background": "light"
     },
     "output_type": "display_data"
    }
   ],
   "source": [
    "plt.figure()\n",
    "plt.plot(scores[\"param_max_depth\"], \n",
    "         scores[\"mean_train_score\"], \n",
    "         label=\"training accuracy\")\n",
    "plt.plot(scores[\"param_max_depth\"], \n",
    "         scores[\"mean_test_score\"], \n",
    "         label=\"test accuracy\")\n",
    "plt.xlabel(\"max_depth\")\n",
    "plt.ylabel(\"Accuracy\")\n",
    "plt.legend()\n",
    "plt.show()"
   ]
  },
  {
   "cell_type": "code",
   "execution_count": null,
   "metadata": {},
   "outputs": [],
   "source": []
  }
 ],
 "metadata": {
  "kernelspec": {
   "display_name": "Python 3",
   "language": "python",
   "name": "python3"
  },
  "language_info": {
   "codemirror_mode": {
    "name": "ipython",
    "version": 3
   },
   "file_extension": ".py",
   "mimetype": "text/x-python",
   "name": "python",
   "nbconvert_exporter": "python",
   "pygments_lexer": "ipython3",
   "version": "3.7.0"
  }
 },
 "nbformat": 4,
 "nbformat_minor": 2
}
